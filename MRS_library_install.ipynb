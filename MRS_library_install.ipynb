{
 "cells": [
  {
   "cell_type": "code",
   "execution_count": null,
   "metadata": {},
   "outputs": [],
   "source": [
    "%pip install numpy --upgrade\n",
    "%pip install pandas --upgrade\n",
    "%pip install seaborn --upgrade\n",
    "%pip install plotly --upgrade\n",
    "%pip install matplotlib --upgrade\n",
    "%pip install scikit-learn --upgrade\n",
    "%pip install scipy --upgrade\n",
    "%pip install collections --upgrade\n",
    "%pip install spotipy --upgrade\n",
    "%pip install pickle --upgrade"
   ]
  }
 ],
 "metadata": {
  "language_info": {
   "name": "python"
  },
  "orig_nbformat": 4
 },
 "nbformat": 4,
 "nbformat_minor": 2
}
