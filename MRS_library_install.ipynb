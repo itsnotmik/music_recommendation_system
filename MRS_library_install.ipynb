{
 "cells": [
  {
   "cell_type": "code",
   "execution_count": 1,
   "metadata": {},
   "outputs": [
    {
     "name": "stdout",
     "output_type": "stream",
     "text": [
      "Defaulting to user installation because normal site-packages is not writeable\n",
      "Requirement already satisfied: numpy in c:\\users\\admin\\appdata\\roaming\\python\\python311\\site-packages (1.25.0)\n",
      "Note: you may need to restart the kernel to use updated packages.\n"
     ]
    },
    {
     "name": "stderr",
     "output_type": "stream",
     "text": [
      "\n",
      "[notice] A new release of pip is available: 23.0.1 -> 23.1.2\n",
      "[notice] To update, run: python.exe -m pip install --upgrade pip\n"
     ]
    },
    {
     "name": "stdout",
     "output_type": "stream",
     "text": [
      "Defaulting to user installation because normal site-packages is not writeable\n",
      "Requirement already satisfied: pandas in c:\\users\\admin\\appdata\\roaming\\python\\python311\\site-packages (2.0.3)\n",
      "Requirement already satisfied: python-dateutil>=2.8.2 in c:\\users\\admin\\appdata\\roaming\\python\\python311\\site-packages (from pandas) (2.8.2)\n",
      "Requirement already satisfied: pytz>=2020.1 in c:\\users\\admin\\appdata\\roaming\\python\\python311\\site-packages (from pandas) (2023.3)\n",
      "Requirement already satisfied: tzdata>=2022.1 in c:\\users\\admin\\appdata\\roaming\\python\\python311\\site-packages (from pandas) (2023.3)\n",
      "Requirement already satisfied: numpy>=1.21.0 in c:\\users\\admin\\appdata\\roaming\\python\\python311\\site-packages (from pandas) (1.25.0)\n",
      "Requirement already satisfied: six>=1.5 in c:\\users\\admin\\appdata\\roaming\\python\\python311\\site-packages (from python-dateutil>=2.8.2->pandas) (1.16.0)\n",
      "Note: you may need to restart the kernel to use updated packages.\n"
     ]
    },
    {
     "name": "stderr",
     "output_type": "stream",
     "text": [
      "\n",
      "[notice] A new release of pip is available: 23.0.1 -> 23.1.2\n",
      "[notice] To update, run: python.exe -m pip install --upgrade pip\n"
     ]
    },
    {
     "name": "stdout",
     "output_type": "stream",
     "text": [
      "Defaulting to user installation because normal site-packages is not writeable\n",
      "Requirement already satisfied: seaborn in c:\\users\\admin\\appdata\\roaming\\python\\python311\\site-packages (0.12.2)\n",
      "Requirement already satisfied: numpy!=1.24.0,>=1.17 in c:\\users\\admin\\appdata\\roaming\\python\\python311\\site-packages (from seaborn) (1.25.0)\n",
      "Requirement already satisfied: pandas>=0.25 in c:\\users\\admin\\appdata\\roaming\\python\\python311\\site-packages (from seaborn) (2.0.3)\n",
      "Requirement already satisfied: matplotlib!=3.6.1,>=3.1 in c:\\users\\admin\\appdata\\roaming\\python\\python311\\site-packages (from seaborn) (3.7.1)\n",
      "Requirement already satisfied: contourpy>=1.0.1 in c:\\users\\admin\\appdata\\roaming\\python\\python311\\site-packages (from matplotlib!=3.6.1,>=3.1->seaborn) (1.0.7)\n",
      "Requirement already satisfied: cycler>=0.10 in c:\\users\\admin\\appdata\\roaming\\python\\python311\\site-packages (from matplotlib!=3.6.1,>=3.1->seaborn) (0.11.0)\n",
      "Requirement already satisfied: fonttools>=4.22.0 in c:\\users\\admin\\appdata\\roaming\\python\\python311\\site-packages (from matplotlib!=3.6.1,>=3.1->seaborn) (4.39.3)\n",
      "Requirement already satisfied: kiwisolver>=1.0.1 in c:\\users\\admin\\appdata\\roaming\\python\\python311\\site-packages (from matplotlib!=3.6.1,>=3.1->seaborn) (1.4.4)\n",
      "Requirement already satisfied: packaging>=20.0 in c:\\users\\admin\\appdata\\roaming\\python\\python311\\site-packages (from matplotlib!=3.6.1,>=3.1->seaborn) (23.0)\n",
      "Requirement already satisfied: pillow>=6.2.0 in c:\\users\\admin\\appdata\\roaming\\python\\python311\\site-packages (from matplotlib!=3.6.1,>=3.1->seaborn) (9.5.0)\n",
      "Requirement already satisfied: pyparsing>=2.3.1 in c:\\users\\admin\\appdata\\roaming\\python\\python311\\site-packages (from matplotlib!=3.6.1,>=3.1->seaborn) (3.0.9)\n",
      "Requirement already satisfied: python-dateutil>=2.7 in c:\\users\\admin\\appdata\\roaming\\python\\python311\\site-packages (from matplotlib!=3.6.1,>=3.1->seaborn) (2.8.2)\n",
      "Requirement already satisfied: pytz>=2020.1 in c:\\users\\admin\\appdata\\roaming\\python\\python311\\site-packages (from pandas>=0.25->seaborn) (2023.3)\n",
      "Requirement already satisfied: tzdata>=2022.1 in c:\\users\\admin\\appdata\\roaming\\python\\python311\\site-packages (from pandas>=0.25->seaborn) (2023.3)\n",
      "Requirement already satisfied: six>=1.5 in c:\\users\\admin\\appdata\\roaming\\python\\python311\\site-packages (from python-dateutil>=2.7->matplotlib!=3.6.1,>=3.1->seaborn) (1.16.0)\n",
      "Note: you may need to restart the kernel to use updated packages.\n"
     ]
    },
    {
     "name": "stderr",
     "output_type": "stream",
     "text": [
      "\n",
      "[notice] A new release of pip is available: 23.0.1 -> 23.1.2\n",
      "[notice] To update, run: python.exe -m pip install --upgrade pip\n"
     ]
    },
    {
     "name": "stdout",
     "output_type": "stream",
     "text": [
      "Defaulting to user installation because normal site-packages is not writeable\n",
      "Requirement already satisfied: plotly in c:\\users\\admin\\appdata\\roaming\\python\\python311\\site-packages (5.14.1)\n",
      "Collecting plotly\n",
      "  Using cached plotly-5.15.0-py2.py3-none-any.whl (15.5 MB)\n",
      "Requirement already satisfied: tenacity>=6.2.0 in c:\\users\\admin\\appdata\\roaming\\python\\python311\\site-packages (from plotly) (8.2.2)\n",
      "Requirement already satisfied: packaging in c:\\users\\admin\\appdata\\roaming\\python\\python311\\site-packages (from plotly) (23.0)\n",
      "Installing collected packages: plotly\n",
      "  Attempting uninstall: plotly\n",
      "    Found existing installation: plotly 5.14.1\n",
      "    Uninstalling plotly-5.14.1:\n",
      "      Successfully uninstalled plotly-5.14.1\n",
      "Successfully installed plotly-5.15.0\n",
      "Note: you may need to restart the kernel to use updated packages.\n"
     ]
    },
    {
     "name": "stderr",
     "output_type": "stream",
     "text": [
      "\n",
      "[notice] A new release of pip is available: 23.0.1 -> 23.1.2\n",
      "[notice] To update, run: python.exe -m pip install --upgrade pip\n"
     ]
    },
    {
     "name": "stdout",
     "output_type": "stream",
     "text": [
      "Defaulting to user installation because normal site-packages is not writeable\n",
      "Requirement already satisfied: matplotlib in c:\\users\\admin\\appdata\\roaming\\python\\python311\\site-packages (3.7.1)\n",
      "Requirement already satisfied: contourpy>=1.0.1 in c:\\users\\admin\\appdata\\roaming\\python\\python311\\site-packages (from matplotlib) (1.0.7)\n",
      "Requirement already satisfied: cycler>=0.10 in c:\\users\\admin\\appdata\\roaming\\python\\python311\\site-packages (from matplotlib) (0.11.0)\n",
      "Requirement already satisfied: fonttools>=4.22.0 in c:\\users\\admin\\appdata\\roaming\\python\\python311\\site-packages (from matplotlib) (4.39.3)\n",
      "Requirement already satisfied: kiwisolver>=1.0.1 in c:\\users\\admin\\appdata\\roaming\\python\\python311\\site-packages (from matplotlib) (1.4.4)\n",
      "Requirement already satisfied: numpy>=1.20 in c:\\users\\admin\\appdata\\roaming\\python\\python311\\site-packages (from matplotlib) (1.25.0)\n",
      "Requirement already satisfied: packaging>=20.0 in c:\\users\\admin\\appdata\\roaming\\python\\python311\\site-packages (from matplotlib) (23.0)\n",
      "Requirement already satisfied: pillow>=6.2.0 in c:\\users\\admin\\appdata\\roaming\\python\\python311\\site-packages (from matplotlib) (9.5.0)\n",
      "Requirement already satisfied: pyparsing>=2.3.1 in c:\\users\\admin\\appdata\\roaming\\python\\python311\\site-packages (from matplotlib) (3.0.9)\n",
      "Requirement already satisfied: python-dateutil>=2.7 in c:\\users\\admin\\appdata\\roaming\\python\\python311\\site-packages (from matplotlib) (2.8.2)\n",
      "Requirement already satisfied: six>=1.5 in c:\\users\\admin\\appdata\\roaming\\python\\python311\\site-packages (from python-dateutil>=2.7->matplotlib) (1.16.0)\n",
      "Note: you may need to restart the kernel to use updated packages.\n"
     ]
    },
    {
     "name": "stderr",
     "output_type": "stream",
     "text": [
      "\n",
      "[notice] A new release of pip is available: 23.0.1 -> 23.1.2\n",
      "[notice] To update, run: python.exe -m pip install --upgrade pip\n"
     ]
    },
    {
     "name": "stdout",
     "output_type": "stream",
     "text": [
      "Defaulting to user installation because normal site-packages is not writeable\n",
      "Requirement already satisfied: scikit-learn in c:\\users\\admin\\appdata\\roaming\\python\\python311\\site-packages (1.2.2)\n",
      "Requirement already satisfied: numpy>=1.17.3 in c:\\users\\admin\\appdata\\roaming\\python\\python311\\site-packages (from scikit-learn) (1.25.0)\n",
      "Requirement already satisfied: scipy>=1.3.2 in c:\\users\\admin\\appdata\\roaming\\python\\python311\\site-packages (from scikit-learn) (1.10.1)\n",
      "Requirement already satisfied: joblib>=1.1.1 in c:\\users\\admin\\appdata\\roaming\\python\\python311\\site-packages (from scikit-learn) (1.2.0)\n",
      "Requirement already satisfied: threadpoolctl>=2.0.0 in c:\\users\\admin\\appdata\\roaming\\python\\python311\\site-packages (from scikit-learn) (3.1.0)\n",
      "Note: you may need to restart the kernel to use updated packages.\n"
     ]
    },
    {
     "name": "stderr",
     "output_type": "stream",
     "text": [
      "\n",
      "[notice] A new release of pip is available: 23.0.1 -> 23.1.2\n",
      "[notice] To update, run: python.exe -m pip install --upgrade pip\n"
     ]
    },
    {
     "name": "stdout",
     "output_type": "stream",
     "text": [
      "Defaulting to user installation because normal site-packages is not writeable\n",
      "Requirement already satisfied: scipy in c:\\users\\admin\\appdata\\roaming\\python\\python311\\site-packages (1.10.1)\n",
      "Collecting scipy\n",
      "  Downloading scipy-1.11.1-cp311-cp311-win_amd64.whl (44.0 MB)\n",
      "     ---------------------------------------- 0.0/44.0 MB ? eta -:--:--\n",
      "     ---------------------------------------- 0.1/44.0 MB 4.3 MB/s eta 0:00:11\n",
      "     ---------------------------------------- 0.5/44.0 MB 7.3 MB/s eta 0:00:06\n",
      "      --------------------------------------- 0.8/44.0 MB 7.5 MB/s eta 0:00:06\n",
      "     - -------------------------------------- 1.2/44.0 MB 8.8 MB/s eta 0:00:05\n",
      "     - -------------------------------------- 1.6/44.0 MB 9.4 MB/s eta 0:00:05\n",
      "     - -------------------------------------- 2.0/44.0 MB 9.3 MB/s eta 0:00:05\n",
      "     -- ------------------------------------- 2.4/44.0 MB 9.6 MB/s eta 0:00:05\n",
      "     -- ------------------------------------- 2.8/44.0 MB 9.9 MB/s eta 0:00:05\n",
      "     -- ------------------------------------- 3.2/44.0 MB 10.2 MB/s eta 0:00:04\n",
      "     --- ------------------------------------ 3.6/44.0 MB 10.0 MB/s eta 0:00:05\n",
      "     --- ------------------------------------ 4.0/44.0 MB 10.3 MB/s eta 0:00:04\n",
      "     ---- ----------------------------------- 4.4/44.0 MB 10.4 MB/s eta 0:00:04\n",
      "     ---- ----------------------------------- 4.8/44.0 MB 10.2 MB/s eta 0:00:04\n",
      "     ---- ----------------------------------- 5.2/44.0 MB 10.4 MB/s eta 0:00:04\n",
      "     ----- ---------------------------------- 5.6/44.0 MB 10.6 MB/s eta 0:00:04\n",
      "     ----- ---------------------------------- 6.0/44.0 MB 10.7 MB/s eta 0:00:04\n",
      "     ----- ---------------------------------- 6.4/44.0 MB 10.5 MB/s eta 0:00:04\n",
      "     ------ --------------------------------- 6.7/44.0 MB 10.5 MB/s eta 0:00:04\n",
      "     ------ --------------------------------- 7.1/44.0 MB 10.5 MB/s eta 0:00:04\n",
      "     ------ --------------------------------- 7.5/44.0 MB 10.7 MB/s eta 0:00:04\n",
      "     ------- -------------------------------- 7.9/44.0 MB 10.6 MB/s eta 0:00:04\n",
      "     ------- -------------------------------- 8.3/44.0 MB 10.7 MB/s eta 0:00:04\n",
      "     ------- -------------------------------- 8.7/44.0 MB 10.8 MB/s eta 0:00:04\n",
      "     -------- ------------------------------- 9.2/44.0 MB 10.6 MB/s eta 0:00:04\n",
      "     -------- ------------------------------- 9.6/44.0 MB 10.8 MB/s eta 0:00:04\n",
      "     -------- ------------------------------ 10.0/44.0 MB 10.8 MB/s eta 0:00:04\n",
      "     --------- ----------------------------- 10.4/44.0 MB 11.1 MB/s eta 0:00:04\n",
      "     --------- ----------------------------- 10.8/44.0 MB 11.1 MB/s eta 0:00:03\n",
      "     --------- ----------------------------- 11.2/44.0 MB 11.3 MB/s eta 0:00:03\n",
      "     ---------- ---------------------------- 11.6/44.0 MB 11.3 MB/s eta 0:00:03\n",
      "     ---------- ---------------------------- 12.1/44.0 MB 11.1 MB/s eta 0:00:03\n",
      "     ----------- --------------------------- 12.5/44.0 MB 11.3 MB/s eta 0:00:03\n",
      "     ----------- --------------------------- 12.9/44.0 MB 11.3 MB/s eta 0:00:03\n",
      "     ----------- --------------------------- 13.3/44.0 MB 11.5 MB/s eta 0:00:03\n",
      "     ------------ -------------------------- 13.7/44.0 MB 11.3 MB/s eta 0:00:03\n",
      "     ------------ -------------------------- 14.1/44.0 MB 11.3 MB/s eta 0:00:03\n",
      "     ------------ -------------------------- 14.5/44.0 MB 11.3 MB/s eta 0:00:03\n",
      "     ------------- ------------------------- 14.8/44.0 MB 11.1 MB/s eta 0:00:03\n",
      "     ------------- ------------------------- 15.2/44.0 MB 11.3 MB/s eta 0:00:03\n",
      "     ------------- ------------------------- 15.6/44.0 MB 11.3 MB/s eta 0:00:03\n",
      "     -------------- ------------------------ 16.0/44.0 MB 11.1 MB/s eta 0:00:03\n",
      "     -------------- ------------------------ 16.4/44.0 MB 11.3 MB/s eta 0:00:03\n",
      "     -------------- ------------------------ 16.8/44.0 MB 11.3 MB/s eta 0:00:03\n",
      "     --------------- ----------------------- 17.2/44.0 MB 11.5 MB/s eta 0:00:03\n",
      "     --------------- ----------------------- 17.6/44.0 MB 11.3 MB/s eta 0:00:03\n",
      "     --------------- ----------------------- 18.0/44.0 MB 11.3 MB/s eta 0:00:03\n",
      "     ---------------- ---------------------- 18.4/44.0 MB 11.3 MB/s eta 0:00:03\n",
      "     ---------------- ---------------------- 18.8/44.0 MB 11.1 MB/s eta 0:00:03\n",
      "     ----------------- --------------------- 19.2/44.0 MB 11.3 MB/s eta 0:00:03\n",
      "     ----------------- --------------------- 19.6/44.0 MB 11.3 MB/s eta 0:00:03\n",
      "     ----------------- --------------------- 20.0/44.0 MB 11.1 MB/s eta 0:00:03\n",
      "     ------------------ -------------------- 20.4/44.0 MB 11.1 MB/s eta 0:00:03\n",
      "     ------------------ -------------------- 20.8/44.0 MB 11.1 MB/s eta 0:00:03\n",
      "     ------------------ -------------------- 21.1/44.0 MB 11.1 MB/s eta 0:00:03\n",
      "     ------------------- ------------------- 21.5/44.0 MB 10.9 MB/s eta 0:00:03\n",
      "     ------------------- ------------------- 21.9/44.0 MB 11.1 MB/s eta 0:00:02\n",
      "     ------------------- ------------------- 22.3/44.0 MB 11.1 MB/s eta 0:00:02\n",
      "     -------------------- ------------------ 22.7/44.0 MB 10.9 MB/s eta 0:00:02\n",
      "     -------------------- ------------------ 23.2/44.0 MB 10.9 MB/s eta 0:00:02\n",
      "     -------------------- ------------------ 23.6/44.0 MB 11.1 MB/s eta 0:00:02\n",
      "     --------------------- ----------------- 23.9/44.0 MB 10.9 MB/s eta 0:00:02\n",
      "     --------------------- ----------------- 24.3/44.0 MB 10.9 MB/s eta 0:00:02\n",
      "     --------------------- ----------------- 24.8/44.0 MB 11.1 MB/s eta 0:00:02\n",
      "     ---------------------- ---------------- 25.1/44.0 MB 11.1 MB/s eta 0:00:02\n",
      "     ---------------------- ---------------- 25.5/44.0 MB 11.1 MB/s eta 0:00:02\n",
      "     ----------------------- --------------- 25.9/44.0 MB 11.1 MB/s eta 0:00:02\n",
      "     ----------------------- --------------- 26.3/44.0 MB 11.1 MB/s eta 0:00:02\n",
      "     ----------------------- --------------- 26.7/44.0 MB 10.9 MB/s eta 0:00:02\n",
      "     ------------------------ -------------- 27.1/44.0 MB 11.1 MB/s eta 0:00:02\n",
      "     ------------------------ -------------- 27.6/44.0 MB 11.1 MB/s eta 0:00:02\n",
      "     ------------------------ -------------- 28.0/44.0 MB 11.1 MB/s eta 0:00:02\n",
      "     ------------------------- ------------- 28.4/44.0 MB 11.1 MB/s eta 0:00:02\n",
      "     ------------------------- ------------- 28.8/44.0 MB 11.1 MB/s eta 0:00:02\n",
      "     ------------------------- ------------- 29.2/44.0 MB 11.3 MB/s eta 0:00:02\n",
      "     -------------------------- ------------ 29.6/44.0 MB 11.1 MB/s eta 0:00:02\n",
      "     -------------------------- ------------ 30.1/44.0 MB 11.3 MB/s eta 0:00:02\n",
      "     --------------------------- ----------- 30.5/44.0 MB 11.3 MB/s eta 0:00:02\n",
      "     --------------------------- ----------- 30.9/44.0 MB 11.3 MB/s eta 0:00:02\n",
      "     --------------------------- ----------- 31.3/44.0 MB 11.3 MB/s eta 0:00:02\n",
      "     ---------------------------- ---------- 31.7/44.0 MB 11.5 MB/s eta 0:00:02\n",
      "     ---------------------------- ---------- 32.2/44.0 MB 11.5 MB/s eta 0:00:02\n",
      "     ---------------------------- ---------- 32.6/44.0 MB 11.3 MB/s eta 0:00:02\n",
      "     ----------------------------- --------- 33.0/44.0 MB 11.5 MB/s eta 0:00:01\n",
      "     ----------------------------- --------- 33.4/44.0 MB 11.5 MB/s eta 0:00:01\n",
      "     ------------------------------ -------- 33.8/44.0 MB 11.5 MB/s eta 0:00:01\n",
      "     ------------------------------ -------- 34.2/44.0 MB 11.5 MB/s eta 0:00:01\n",
      "     ------------------------------ -------- 34.7/44.0 MB 11.5 MB/s eta 0:00:01\n",
      "     ------------------------------- ------- 35.1/44.0 MB 11.5 MB/s eta 0:00:01\n",
      "     ------------------------------- ------- 35.4/44.0 MB 11.5 MB/s eta 0:00:01\n",
      "     ------------------------------- ------- 35.8/44.0 MB 11.5 MB/s eta 0:00:01\n",
      "     -------------------------------- ------ 36.2/44.0 MB 11.5 MB/s eta 0:00:01\n",
      "     -------------------------------- ------ 36.6/44.0 MB 11.5 MB/s eta 0:00:01\n",
      "     -------------------------------- ------ 37.0/44.0 MB 11.5 MB/s eta 0:00:01\n",
      "     --------------------------------- ----- 37.5/44.0 MB 11.5 MB/s eta 0:00:01\n",
      "     --------------------------------- ----- 37.9/44.0 MB 11.5 MB/s eta 0:00:01\n",
      "     --------------------------------- ----- 38.3/44.0 MB 11.5 MB/s eta 0:00:01\n",
      "     ---------------------------------- ---- 38.7/44.0 MB 11.5 MB/s eta 0:00:01\n",
      "     ---------------------------------- ---- 39.2/44.0 MB 11.5 MB/s eta 0:00:01\n",
      "     ----------------------------------- --- 39.6/44.0 MB 11.5 MB/s eta 0:00:01\n",
      "     ----------------------------------- --- 40.0/44.0 MB 11.5 MB/s eta 0:00:01\n",
      "     ----------------------------------- --- 40.4/44.0 MB 11.7 MB/s eta 0:00:01\n",
      "     ------------------------------------ -- 40.8/44.0 MB 11.5 MB/s eta 0:00:01\n",
      "     ------------------------------------ -- 41.2/44.0 MB 11.5 MB/s eta 0:00:01\n",
      "     ------------------------------------ -- 41.6/44.0 MB 11.5 MB/s eta 0:00:01\n",
      "     ------------------------------------- - 42.0/44.0 MB 11.5 MB/s eta 0:00:01\n",
      "     ------------------------------------- - 42.4/44.0 MB 11.5 MB/s eta 0:00:01\n",
      "     ------------------------------------- - 42.8/44.0 MB 11.5 MB/s eta 0:00:01\n",
      "     --------------------------------------  43.2/44.0 MB 11.3 MB/s eta 0:00:01\n",
      "     --------------------------------------  43.6/44.0 MB 11.3 MB/s eta 0:00:01\n",
      "     --------------------------------------  44.0/44.0 MB 11.3 MB/s eta 0:00:01\n",
      "     --------------------------------------  44.0/44.0 MB 11.3 MB/s eta 0:00:01\n",
      "     --------------------------------------  44.0/44.0 MB 11.3 MB/s eta 0:00:01\n",
      "     --------------------------------------  44.0/44.0 MB 11.3 MB/s eta 0:00:01\n",
      "     --------------------------------------  44.0/44.0 MB 11.3 MB/s eta 0:00:01\n",
      "     --------------------------------------  44.0/44.0 MB 11.3 MB/s eta 0:00:01\n",
      "     ---------------------------------------- 44.0/44.0 MB 9.1 MB/s eta 0:00:00\n",
      "Requirement already satisfied: numpy<1.28.0,>=1.21.6 in c:\\users\\admin\\appdata\\roaming\\python\\python311\\site-packages (from scipy) (1.25.0)\n",
      "Installing collected packages: scipy\n",
      "  Attempting uninstall: scipy\n",
      "    Found existing installation: scipy 1.10.1\n",
      "    Uninstalling scipy-1.10.1:\n",
      "      Successfully uninstalled scipy-1.10.1\n",
      "Successfully installed scipy-1.11.1\n",
      "Note: you may need to restart the kernel to use updated packages.\n"
     ]
    },
    {
     "name": "stderr",
     "output_type": "stream",
     "text": [
      "\n",
      "[notice] A new release of pip is available: 23.0.1 -> 23.1.2\n",
      "[notice] To update, run: python.exe -m pip install --upgrade pip\n"
     ]
    },
    {
     "name": "stdout",
     "output_type": "stream",
     "text": [
      "Note: you may need to restart the kernel to use updated packages.Defaulting to user installation because normal site-packages is not writeable\n",
      "\n"
     ]
    },
    {
     "name": "stderr",
     "output_type": "stream",
     "text": [
      "ERROR: Could not find a version that satisfies the requirement collections (from versions: none)\n",
      "ERROR: No matching distribution found for collections\n",
      "\n",
      "[notice] A new release of pip is available: 23.0.1 -> 23.1.2\n",
      "[notice] To update, run: python.exe -m pip install --upgrade pip\n"
     ]
    },
    {
     "name": "stdout",
     "output_type": "stream",
     "text": [
      "Defaulting to user installation because normal site-packages is not writeable\n",
      "Requirement already satisfied: spotipy in c:\\users\\admin\\appdata\\roaming\\python\\python311\\site-packages (2.23.0)\n",
      "Requirement already satisfied: redis>=3.5.3 in c:\\users\\admin\\appdata\\roaming\\python\\python311\\site-packages (from spotipy) (4.5.4)\n",
      "Requirement already satisfied: requests>=2.25.0 in c:\\users\\admin\\appdata\\roaming\\python\\python311\\site-packages (from spotipy) (2.28.2)\n",
      "Requirement already satisfied: six>=1.15.0 in c:\\users\\admin\\appdata\\roaming\\python\\python311\\site-packages (from spotipy) (1.16.0)\n",
      "Requirement already satisfied: urllib3>=1.26.0 in c:\\users\\admin\\appdata\\roaming\\python\\python311\\site-packages (from spotipy) (1.26.15)\n",
      "Requirement already satisfied: async-timeout>=4.0.2 in c:\\users\\admin\\appdata\\roaming\\python\\python311\\site-packages (from redis>=3.5.3->spotipy) (4.0.2)\n",
      "Requirement already satisfied: charset-normalizer<4,>=2 in c:\\users\\admin\\appdata\\roaming\\python\\python311\\site-packages (from requests>=2.25.0->spotipy) (3.1.0)\n",
      "Requirement already satisfied: idna<4,>=2.5 in c:\\users\\admin\\appdata\\roaming\\python\\python311\\site-packages (from requests>=2.25.0->spotipy) (3.4)\n",
      "Requirement already satisfied: certifi>=2017.4.17 in c:\\users\\admin\\appdata\\roaming\\python\\python311\\site-packages (from requests>=2.25.0->spotipy) (2022.12.7)\n",
      "Note: you may need to restart the kernel to use updated packages.\n"
     ]
    },
    {
     "name": "stderr",
     "output_type": "stream",
     "text": [
      "\n",
      "[notice] A new release of pip is available: 23.0.1 -> 23.1.2\n",
      "[notice] To update, run: python.exe -m pip install --upgrade pip\n"
     ]
    },
    {
     "name": "stdout",
     "output_type": "stream",
     "text": [
      "Defaulting to user installation because normal site-packages is not writeableNote: you may need to restart the kernel to use updated packages.\n"
     ]
    },
    {
     "name": "stderr",
     "output_type": "stream",
     "text": [
      "ERROR: Could not find a version that satisfies the requirement pickle (from versions: none)\n",
      "ERROR: No matching distribution found for pickle\n",
      "\n",
      "[notice] A new release of pip is available: 23.0.1 -> 23.1.2\n",
      "[notice] To update, run: python.exe -m pip install --upgrade pip\n"
     ]
    },
    {
     "name": "stdout",
     "output_type": "stream",
     "text": [
      "\n",
      "Defaulting to user installation because normal site-packages is not writeable\n",
      "Requirement already satisfied: pypyodbc in c:\\users\\admin\\appdata\\roaming\\python\\python311\\site-packages (1.3.6)\n",
      "Requirement already satisfied: setuptools in e:\\program files\\python 3.11\\lib\\site-packages (from pypyodbc) (65.5.0)\n",
      "Note: you may need to restart the kernel to use updated packages.\n"
     ]
    },
    {
     "name": "stderr",
     "output_type": "stream",
     "text": [
      "\n",
      "[notice] A new release of pip is available: 23.0.1 -> 23.1.2\n",
      "[notice] To update, run: python.exe -m pip install --upgrade pip\n"
     ]
    },
    {
     "name": "stdout",
     "output_type": "stream",
     "text": [
      "Defaulting to user installation because normal site-packages is not writeable\n",
      "Requirement already satisfied: flask in c:\\users\\admin\\appdata\\roaming\\python\\python311\\site-packages (2.3.1)\n",
      "Collecting flask\n",
      "  Downloading Flask-2.3.2-py3-none-any.whl (96 kB)\n",
      "     ---------------------------------------- 0.0/96.9 kB ? eta -:--:--\n",
      "     -------------------------------------- - 92.2/96.9 kB 2.6 MB/s eta 0:00:01\n",
      "     -------------------------------------- - 92.2/96.9 kB 2.6 MB/s eta 0:00:01\n",
      "     -------------------------------------- - 92.2/96.9 kB 2.6 MB/s eta 0:00:01\n",
      "     -------------------------------------- 96.9/96.9 kB 794.7 kB/s eta 0:00:00\n",
      "Collecting Werkzeug>=2.3.3\n",
      "  Downloading Werkzeug-2.3.6-py3-none-any.whl (242 kB)\n",
      "     ---------------------------------------- 0.0/242.5 kB ? eta -:--:--\n",
      "     ----------------------------------- - 235.5/242.5 kB 15.0 MB/s eta 0:00:01\n",
      "     ----------------------------------- - 235.5/242.5 kB 15.0 MB/s eta 0:00:01\n",
      "     ----------------------------------- - 235.5/242.5 kB 15.0 MB/s eta 0:00:01\n",
      "     ----------------------------------- - 235.5/242.5 kB 15.0 MB/s eta 0:00:01\n",
      "     ----------------------------------- - 235.5/242.5 kB 15.0 MB/s eta 0:00:01\n",
      "     -------------------------------------- 242.5/242.5 kB 1.2 MB/s eta 0:00:00\n",
      "Requirement already satisfied: Jinja2>=3.1.2 in c:\\users\\admin\\appdata\\roaming\\python\\python311\\site-packages (from flask) (3.1.2)\n",
      "Requirement already satisfied: itsdangerous>=2.1.2 in c:\\users\\admin\\appdata\\roaming\\python\\python311\\site-packages (from flask) (2.1.2)\n",
      "Requirement already satisfied: click>=8.1.3 in c:\\users\\admin\\appdata\\roaming\\python\\python311\\site-packages (from flask) (8.1.3)\n",
      "Requirement already satisfied: blinker>=1.6.2 in c:\\users\\admin\\appdata\\roaming\\python\\python311\\site-packages (from flask) (1.6.2)\n",
      "Requirement already satisfied: colorama in c:\\users\\admin\\appdata\\roaming\\python\\python311\\site-packages (from click>=8.1.3->flask) (0.4.6)\n",
      "Requirement already satisfied: MarkupSafe>=2.0 in c:\\users\\admin\\appdata\\roaming\\python\\python311\\site-packages (from Jinja2>=3.1.2->flask) (2.1.2)\n",
      "Installing collected packages: Werkzeug, flask\n",
      "  Attempting uninstall: Werkzeug\n",
      "    Found existing installation: Werkzeug 2.3.1\n",
      "    Uninstalling Werkzeug-2.3.1:\n",
      "      Successfully uninstalled Werkzeug-2.3.1\n",
      "  Attempting uninstall: flask\n",
      "    Found existing installation: Flask 2.3.1\n",
      "    Uninstalling Flask-2.3.1:\n",
      "      Successfully uninstalled Flask-2.3.1\n",
      "Successfully installed Werkzeug-2.3.6 flask-2.3.2\n",
      "Note: you may need to restart the kernel to use updated packages.\n"
     ]
    },
    {
     "name": "stderr",
     "output_type": "stream",
     "text": [
      "\n",
      "[notice] A new release of pip is available: 23.0.1 -> 23.1.2\n",
      "[notice] To update, run: python.exe -m pip install --upgrade pip\n"
     ]
    },
    {
     "name": "stdout",
     "output_type": "stream",
     "text": [
      "Defaulting to user installation because normal site-packages is not writeable\n",
      "Collecting flask_cors\n",
      "  Downloading Flask_Cors-4.0.0-py2.py3-none-any.whl (14 kB)\n",
      "Requirement already satisfied: Flask>=0.9 in c:\\users\\admin\\appdata\\roaming\\python\\python311\\site-packages (from flask_cors) (2.3.2)\n",
      "Requirement already satisfied: Werkzeug>=2.3.3 in c:\\users\\admin\\appdata\\roaming\\python\\python311\\site-packages (from Flask>=0.9->flask_cors) (2.3.6)\n",
      "Requirement already satisfied: Jinja2>=3.1.2 in c:\\users\\admin\\appdata\\roaming\\python\\python311\\site-packages (from Flask>=0.9->flask_cors) (3.1.2)\n",
      "Requirement already satisfied: itsdangerous>=2.1.2 in c:\\users\\admin\\appdata\\roaming\\python\\python311\\site-packages (from Flask>=0.9->flask_cors) (2.1.2)\n",
      "Requirement already satisfied: click>=8.1.3 in c:\\users\\admin\\appdata\\roaming\\python\\python311\\site-packages (from Flask>=0.9->flask_cors) (8.1.3)\n",
      "Requirement already satisfied: blinker>=1.6.2 in c:\\users\\admin\\appdata\\roaming\\python\\python311\\site-packages (from Flask>=0.9->flask_cors) (1.6.2)\n",
      "Requirement already satisfied: colorama in c:\\users\\admin\\appdata\\roaming\\python\\python311\\site-packages (from click>=8.1.3->Flask>=0.9->flask_cors) (0.4.6)\n",
      "Requirement already satisfied: MarkupSafe>=2.0 in c:\\users\\admin\\appdata\\roaming\\python\\python311\\site-packages (from Jinja2>=3.1.2->Flask>=0.9->flask_cors) (2.1.2)\n",
      "Installing collected packages: flask_cors\n",
      "Successfully installed flask_cors-4.0.0\n",
      "Note: you may need to restart the kernel to use updated packages.\n"
     ]
    },
    {
     "name": "stderr",
     "output_type": "stream",
     "text": [
      "\n",
      "[notice] A new release of pip is available: 23.0.1 -> 23.1.2\n",
      "[notice] To update, run: python.exe -m pip install --upgrade pip\n"
     ]
    }
   ],
   "source": [
    "%pip install numpy --upgrade\n",
    "%pip install pandas --upgrade\n",
    "%pip install seaborn --upgrade\n",
    "%pip install plotly --upgrade\n",
    "%pip install matplotlib --upgrade\n",
    "%pip install scikit-learn --upgrade\n",
    "%pip install scipy --upgrade\n",
    "%pip install collections --upgrade\n",
    "%pip install spotipy --upgrade\n",
    "%pip install pickle --upgrade\n",
    "%pip install pypyodbc --upgrade\n",
    "%pip install flask --upgrade\n",
    "%pip install flask_cors --upgrade"
   ]
  }
 ],
 "metadata": {
  "kernelspec": {
   "display_name": "Python 3",
   "language": "python",
   "name": "python3"
  },
  "language_info": {
   "codemirror_mode": {
    "name": "ipython",
    "version": 3
   },
   "file_extension": ".py",
   "mimetype": "text/x-python",
   "name": "python",
   "nbconvert_exporter": "python",
   "pygments_lexer": "ipython3",
   "version": "3.11.2"
  },
  "orig_nbformat": 4
 },
 "nbformat": 4,
 "nbformat_minor": 2
}
