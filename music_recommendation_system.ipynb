{
 "cells": [
  {
   "attachments": {},
   "cell_type": "markdown",
   "metadata": {},
   "source": [
    "%pip install numpy --upgrade\n",
    "%pip install pandas --upgrade\n",
    "%pip install seaborn --upgrade\n",
    "%pip install plotly --upgrade\n",
    "%pip install matplotlib --upgrade\n",
    "%pip install scikit-learn --upgrade\n",
    "%pip install scipy --upgrade\n",
    "%pip install collections --upgrade\n",
    "%pip install spotipy --upgrade\n",
    "%pip install pickle --upgrade"
   ]
  },
  {
   "cell_type": "code",
   "execution_count": 1,
   "metadata": {},
   "outputs": [],
   "source": [
    "import os\n",
    "import numpy as np\n",
    "import pandas as pd\n",
    "import spotipy\n",
    "import pyodbc\n",
    "import pickle\n",
    "\n",
    "from sklearn.cluster import KMeans\n",
    "from sklearn.preprocessing import StandardScaler\n",
    "from sklearn.pipeline import Pipeline\n",
    "from scipy.spatial.distance import cdist\n",
    "from collections import defaultdict\n",
    "from spotipy.oauth2 import SpotifyClientCredentials\n",
    "\n",
    "import warnings\n",
    "warnings.filterwarnings(\"ignore\")"
   ]
  },
  {
   "cell_type": "code",
   "execution_count": 2,
   "metadata": {},
   "outputs": [],
   "source": [
    "with open('data/spotipyclientid.txt', 'r') as f:\n",
    "    SPOTIPY_CLIENT_ID = f.read()\n",
    "with open('data/spotipyclientsecret.txt', 'r') as f:\n",
    "    SPOTIPY_CLIENT_SECRET = f.read()\n",
    "    \n",
    "sp = spotipy.Spotify(auth_manager=SpotifyClientCredentials(client_id=SPOTIPY_CLIENT_ID, client_secret=SPOTIPY_CLIENT_SECRET))"
   ]
  },
  {
   "cell_type": "code",
   "execution_count": 3,
   "metadata": {},
   "outputs": [
    {
     "name": "stdout",
     "output_type": "stream",
     "text": [
      "10000001 Alan\n",
      "10000002 Arturo\n",
      "10000003 Alfredo\n",
      "10000004 Elijah\n",
      "10000005 Michael\n",
      "10000006 Nicole\n",
      "10000007 Tristan\n",
      "10000013 None\n"
     ]
    }
   ],
   "source": [
    "with open('data/db_connection.txt', 'r') as f:\n",
    "    db_conn = f.read()\n",
    "\n",
    "with pyodbc.connect(db_conn) as conn:\n",
    "    with conn.cursor() as cursor:\n",
    "        cursor.execute(\"SELECT TOP (1000) [PersonID], [FirstName], [LastName], [Username], [Email], [Address], [Age], [Password] FROM [dbo].[Accounts]\")\n",
    "        row = cursor.fetchone()\n",
    "        while row:\n",
    "            print (str(row[0]) + \" \" + str(row[1]))\n",
    "            row = cursor.fetchone()"
   ]
  },
  {
   "cell_type": "code",
   "execution_count": 4,
   "metadata": {},
   "outputs": [],
   "source": [
    "data = pd.read_csv('data\\data_features.csv')"
   ]
  },
  {
   "cell_type": "code",
   "execution_count": 5,
   "metadata": {},
   "outputs": [],
   "source": [
    "song_cluster_pipeline = Pipeline([('scaler', StandardScaler()), \n",
    "                                  ('kmeans', KMeans(n_clusters=10, \n",
    "                                   verbose=False))\n",
    "                                 ], verbose=False)"
   ]
  },
  {
   "cell_type": "code",
   "execution_count": 6,
   "metadata": {},
   "outputs": [],
   "source": [
    "X = data.select_dtypes(np.number)\n",
    "number_cols = list(X.columns)\n",
    "song_cluster_pipeline.fit(X)\n",
    "song_cluster_labels = song_cluster_pipeline.predict(X)\n",
    "data['cluster_label'] = song_cluster_labels\n",
    "\n",
    "pickle.dump(song_cluster_pipeline, open('data/data.sav', 'wb'))\n",
    "\n",
    "song_cluster_pipeline = pickle.load(open('data/data.sav', 'rb'))"
   ]
  },
  {
   "cell_type": "code",
   "execution_count": 7,
   "metadata": {},
   "outputs": [],
   "source": [
    "def find_song(name, artists, year):\n",
    "    song_data = defaultdict()\n",
    "    results = sp.search(q='track: {} artists: {} year: {}'.format(name,artists,year), limit=1, type='track')\n",
    "    if results['tracks']['items'] == []:\n",
    "        return None\n",
    "\n",
    "    results = results['tracks']['items'][0]\n",
    "    track_id = results['id']\n",
    "    audio_features = sp.audio_features(track_id)[0]\n",
    "\n",
    "    song_data['name'] = [name]\n",
    "    song_data['year'] = [year]\n",
    "    song_data['explicit'] = [int(results['explicit'])]\n",
    "    song_data['duration_ms'] = [results['duration_ms']]\n",
    "    song_data['popularity'] = [results['popularity']]\n",
    "    song_data['track_number'] = [results['track_number']]\n",
    "    song_data['disc_number'] = [results['disc_number']]\n",
    "\n",
    "\n",
    "    for key, value in audio_features.items():\n",
    "        song_data[key] = value\n",
    "\n",
    "    return pd.DataFrame(song_data)\n",
    "\n",
    "number_cols = ['track_number', 'disc_number', 'danceability', 'energy', 'key', 'loudness', 'mode', 'speechiness', \n",
    "               'acousticness', 'instrumentalness', 'liveness', 'valence', 'tempo', 'duration_ms', 'time_signature', 'year']\n",
    "\n",
    "\n",
    "def get_song_data(song, spotify_data):\n",
    "    \n",
    "    try:\n",
    "        song_data = spotify_data[(spotify_data['name'] == song['name']) & (spotify_data['artists'] == song['artists']) & (spotify_data['year'] == song['year'])].iloc[1]\n",
    "        return song_data\n",
    "    \n",
    "    except IndexError:\n",
    "        return find_song(song['name'], song['artists'], song['year'])\n",
    "        \n",
    "\n",
    "def get_mean_vector(song_list, spotify_data):\n",
    "    \n",
    "    song_vectors = []\n",
    "    \n",
    "    for song in song_list:\n",
    "        song_data = get_song_data(song, spotify_data)\n",
    "        if song_data is None:\n",
    "            print('Warning: {} does not exist in Spotify or in database'.format(song['name']))\n",
    "            continue\n",
    "        song_vector = song_data[number_cols].values\n",
    "        song_vectors.append(song_vector)  \n",
    "    \n",
    "    song_matrix = np.array(list(song_vectors))\n",
    "    return np.mean(song_matrix, axis=0)\n",
    "\n",
    "\n",
    "def flatten_dict_list(dict_list):\n",
    "    \n",
    "    flattened_dict = defaultdict()\n",
    "    for key in dict_list[0].keys():\n",
    "        flattened_dict[key] = []\n",
    "    \n",
    "    for dictionary in dict_list:\n",
    "        for key, value in dictionary.items():\n",
    "            flattened_dict[key].append(value)\n",
    "            \n",
    "    return flattened_dict\n",
    "\n",
    "\n",
    "def recommend_songs( song_list, spotify_data, n_songs=10):\n",
    "    \n",
    "    metadata_cols = ['name', 'year', 'artists']\n",
    "    song_dict = flatten_dict_list(song_list)\n",
    "    \n",
    "    song_center = get_mean_vector(song_list, spotify_data)\n",
    "    scaler = song_cluster_pipeline.steps[0][1]\n",
    "    scaled_data = scaler.transform(spotify_data[number_cols])\n",
    "    scaled_song_center = scaler.transform(song_center.reshape(1, -1))\n",
    "    distances = cdist(scaled_song_center, scaled_data, 'cosine')\n",
    "    index = list(np.argsort(distances)[:, :n_songs][0])\n",
    "\n",
    "    rec_songs = spotify_data.iloc[index]\n",
    "    rec_songs = rec_songs[~rec_songs['name'].isin(song_dict['name'])]\n",
    "    return rec_songs[metadata_cols].to_dict(orient='records')"
   ]
  },
  {
   "cell_type": "code",
   "execution_count": 8,
   "metadata": {},
   "outputs": [
    {
     "data": {
      "text/plain": [
       "[[{'name': 'No Words', 'year': 2007, 'artists': \"['Helen Horal']\"},\n",
       "  {'name': 'Monkey',\n",
       "   'year': 2007,\n",
       "   'artists': \"['Two Loons For Tea', 'Tom Biller', 'Paul Bushnell', 'Matt Chamberlain', 'Mike Dillon', 'Brad Houser', 'Brian MacLeod', 'Pat Mastelotto', 'Don McGreevy', 'Eric Rosse', 'Patrick Warren', 'Sarah Scott', 'Jonathan Kochmer', 'Mell Dettmer']\"},\n",
       "  {'name': 'For All That', 'year': 2006, 'artists': \"['The Bordercollies']\"},\n",
       "  {'name': 'In the Beat of A Heart',\n",
       "   'year': 2010,\n",
       "   'artists': \"['Stu Weaver']\"},\n",
       "  {'name': 'Pleasure and Pain and Pride and Me',\n",
       "   'year': 2008,\n",
       "   'artists': \"['These United States']\"},\n",
       "  {'name': 'Losing You', 'year': 2009, 'artists': \"['Francesca Lee']\"},\n",
       "  {'name': 'What Can I Do', 'year': 2005, 'artists': \"['Nan Quan Mama']\"},\n",
       "  {'name': 'Gardens of England', 'year': 2010, 'artists': '[\"The BDI\\'s\"]'},\n",
       "  {'name': 'Shadow Lie Light',\n",
       "   'year': 2010,\n",
       "   'artists': \"['The Brian James Gang']\"},\n",
       "  {'name': 'My Patch', 'year': 2006, 'artists': \"['Jim Noir']\"}]]"
      ]
     },
     "execution_count": 8,
     "metadata": {},
     "output_type": "execute_result"
    }
   ],
   "source": [
    "[recommend_songs([{'name': 'How to Save A Life', 'artists': 'The Fray', 'year':2005},\n",
    "                  {'name': 'If I Die Young', 'artists': 'The Band Perry', 'year':2010},\n",
    "                  {'name': 'Somebody That I Used To Know', 'artists': \"'Gotye', 'Kimbra'\", 'year':2011}], data)]"
   ]
  },
  {
   "cell_type": "code",
   "execution_count": 9,
   "metadata": {},
   "outputs": [
    {
     "data": {
      "text/plain": [
       "[[{'name': 'Miserable Woman',\n",
       "   'year': 2020,\n",
       "   'artists': \"['The Tony O Blues Band']\"},\n",
       "  {'name': 'Chanda Mama', 'year': 2018, 'artists': \"['TULA']\"},\n",
       "  {'name': 'The World is in a Tangle',\n",
       "   'year': 2019,\n",
       "   'artists': \"['Jontavious Willis']\"},\n",
       "  {'name': 'Raised on Texas Music',\n",
       "   'year': 2017,\n",
       "   'artists': \"['Hot Pickin 57s']\"},\n",
       "  {'name': 'Blue Monday', 'year': 2019, 'artists': \"['George Benson']\"},\n",
       "  {'name': 'Stegosaurus', 'year': 2016, 'artists': \"['New Move']\"},\n",
       "  {'name': 'Werewolves of London',\n",
       "   'year': 2017,\n",
       "   'artists': \"['Warren Zevon']\"},\n",
       "  {'name': 'Same Old Road', 'year': 2014, 'artists': \"['Under Two Tables']\"},\n",
       "  {'name': 'Ayom Manifesto', 'year': 2020, 'artists': \"['Ayom']\"},\n",
       "  {'name': 'Twenty-Seven Dollars',\n",
       "   'year': 2018,\n",
       "   'artists': \"['Jenny Van West']\"}]]"
      ]
     },
     "execution_count": 9,
     "metadata": {},
     "output_type": "execute_result"
    }
   ],
   "source": [
    "[recommend_songs([{'name': 'It Must Be A Pain', 'artists': \"['sewerperson']\", 'year':2022}],  data)]"
   ]
  }
 ],
 "metadata": {
  "kernelspec": {
   "display_name": "Python 3",
   "language": "python",
   "name": "python3"
  },
  "language_info": {
   "codemirror_mode": {
    "name": "ipython",
    "version": 3
   },
   "file_extension": ".py",
   "mimetype": "text/x-python",
   "name": "python",
   "nbconvert_exporter": "python",
   "pygments_lexer": "ipython3",
   "version": "3.11.2"
  },
  "orig_nbformat": 4
 },
 "nbformat": 4,
 "nbformat_minor": 2
}
